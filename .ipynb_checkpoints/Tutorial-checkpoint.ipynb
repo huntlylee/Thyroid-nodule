{
 "cells": [
  {
   "cell_type": "code",
   "execution_count": 1,
   "id": "2b0c6792",
   "metadata": {},
   "outputs": [],
   "source": [
    "import numpy as np\n",
    "# import matplotlib.pyplot as plt\n",
    "import pandas as pd\n",
    "import xgboost as xgb\n",
    "import lightgbm as lgb\n",
    "from sklearn.ensemble import RandomForestClassifier\n",
    "from sklearn.linear_model import LogisticRegression\n",
    "import joblib"
   ]
  },
  {
   "cell_type": "code",
   "execution_count": 2,
   "id": "15b31b15",
   "metadata": {},
   "outputs": [],
   "source": [
    "''' Please define the required variables below '''\n",
    "\n",
    "\n",
    "''' To replace the value with your own indicator in each item below '''\n",
    "\n",
    "user_indicators = {'Sex': [0], # Patient's biological gender: 0 for Female and 1 for Male\n",
    "                   'WC': [80], # Waist circumference (cm)\n",
    "                   'Age': [45], # Patient's age (year)\n",
    "                   'FBS': [5], # Fasting blood glucose level (mmol/L)\n",
    "                   'TG': [1.0], # Triglycerides (mmol/L)\n",
    "                   'TCH': [4.5], # Total cholesterol (mmol/L)\n",
    "                   'LDL': [2.7], # Low-density lipoprotein cholesterol (mmol/L)\n",
    "                   'HDL': [1.6], # High-density lipoprotein cholesterol (mmol/L)\n",
    "                   'UA': [300], # Uric acid (umol/L)\n",
    "                   'ALT': [28], # Alanine aminotransferase (U/L)\n",
    "                   'AST': [16], # Aspartate aminotransferase (U/L)\n",
    "                   'GGT': [20], # Gamma-glutamyl transpeptidase (U/L)\n",
    "                   'Cr': [66], # Creatine (umol/L)\n",
    "                   'BMI': [20.8], # Body mass index (kg/m2) = Body weight (kg) / Body height (m) / Body height (m)\n",
    "                   'MAP': [93.3] # Mean arterial pressure (mmHg) = [Systolic BP + (2 × Diastolic BP)]/3\n",
    "}\n",
    "\n",
    "''' To select a model. \n",
    "\n",
    "Options: XGB, LGB, LR, RF\n",
    "\n",
    "Default: XGB\n",
    "\n",
    "'''\n",
    "model_name = 'XGB' "
   ]
  },
  {
   "cell_type": "code",
   "execution_count": 3,
   "id": "af79bc30",
   "metadata": {},
   "outputs": [],
   "source": [
    "''' Just run everything below without any change '''\n",
    "\n",
    "thresholds = {'LGB': 0.5565,\n",
    "              'XGB': 0.579,\n",
    "              'RF': 0.550,\n",
    "              'LR': 0.49,   \n",
    "}"
   ]
  },
  {
   "cell_type": "code",
   "execution_count": 4,
   "id": "30ccf7ad",
   "metadata": {},
   "outputs": [],
   "source": [
    "df = pd.DataFrame.from_dict(user_indicators)\n",
    "df = df.add_suffix('_bsl')\n",
    "\n",
    "log_trans = ['FBS_bsl', 'TG_bsl', 'TCH_bsl', 'LDL_bsl', 'HDL_bsl', 'UA_bsl', 'ALT_bsl', 'AST_bsl', 'GGT_bsl', 'Cr_bsl', 'BMI_bsl', 'MAP_bsl']\n",
    "for col in log_trans:\n",
    "    df[col + '_log'] = np.log10(df[col])\n",
    "df.drop(log_trans, axis=1, inplace=True)\n"
   ]
  },
  {
   "cell_type": "code",
   "execution_count": 5,
   "id": "0c495aef",
   "metadata": {},
   "outputs": [
    {
     "name": "stdout",
     "output_type": "stream",
     "text": [
      "The 3-year risk of thyroid nodule is estimated to be: 65.3%\n",
      "Recommendation of thyroid ultrasound for this patient.\n"
     ]
    }
   ],
   "source": [
    "clf = joblib.load(r'Pre-trained models\\{}.pkl'.format(model_name))\n",
    "threshold = thresholds[model_name]\n",
    "\n",
    "risk = clf.predict_proba(df)[0,1]\n",
    "\n",
    "if risk>=threshold:\n",
    "    print('The 3-year risk of thyroid nodule is estimated to be: {:.1%}\\nRecommendation of thyroid ultrasound for this patient.'.format(risk))\n",
    "else:\n",
    "    print('The 3-year risk of thyroid nodule is estimated to be: {:.1%}\\nThyroid ultrasound may not be necessary at the moment.'.format(risk))"
   ]
  }
 ],
 "metadata": {
  "kernelspec": {
   "display_name": "Python 3 (ipykernel)",
   "language": "python",
   "name": "python3"
  },
  "language_info": {
   "codemirror_mode": {
    "name": "ipython",
    "version": 3
   },
   "file_extension": ".py",
   "mimetype": "text/x-python",
   "name": "python",
   "nbconvert_exporter": "python",
   "pygments_lexer": "ipython3",
   "version": "3.9.12"
  }
 },
 "nbformat": 4,
 "nbformat_minor": 5
}
